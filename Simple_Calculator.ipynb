{
  "nbformat": 4,
  "nbformat_minor": 0,
  "metadata": {
    "colab": {
      "provenance": [],
      "authorship_tag": "ABX9TyOzco1BP9DzihgFIL/JxxSW",
      "include_colab_link": true
    },
    "kernelspec": {
      "name": "python3",
      "display_name": "Python 3"
    },
    "language_info": {
      "name": "python"
    }
  },
  "cells": [
    {
      "cell_type": "markdown",
      "metadata": {
        "id": "view-in-github",
        "colab_type": "text"
      },
      "source": [
        "<a href=\"https://colab.research.google.com/github/kanjamwingirwa/Python_Practice/blob/kanja/Simple_Calculator.ipynb\" target=\"_parent\"><img src=\"https://colab.research.google.com/assets/colab-badge.svg\" alt=\"Open In Colab\"/></a>"
      ]
    },
    {
      "cell_type": "code",
      "execution_count": 2,
      "metadata": {
        "colab": {
          "base_uri": "https://localhost:8080/"
        },
        "id": "_F20opdwmico",
        "outputId": "a91e30f7-31b5-41ad-9aa3-af1be3cef101"
      },
      "outputs": [
        {
          "output_type": "stream",
          "name": "stdout",
          "text": [
            "Select an operation to perform: \n"
          ]
        }
      ],
      "source": [
        "print('Select an operation to perform: ')"
      ]
    },
    {
      "cell_type": "code",
      "source": [
        "import math"
      ],
      "metadata": {
        "id": "j_ycSP4BmxKp"
      },
      "execution_count": 20,
      "outputs": []
    },
    {
      "cell_type": "code",
      "source": [
        "print('Select an operation to perform: ')\n",
        "print(\"1. ADD\")\n",
        "print(\"2. SUBTRACT\")\n",
        "print(\"3. MULTIPLY\")\n",
        "print(\"4. DIVIDE\")\n",
        "print(\"5. SQUARE ROOT\")\n",
        "print(\"6. SQUARE\")\n",
        "operation = input()\n",
        "if operation == '1':\n",
        "  num1= int(input(\"Enter your first number: \"))\n",
        "  num2= int(input(\"Enter your second number: \"))\n",
        "  print(\"The sum is\", num1+num2)\n",
        "elif operation =='2':\n",
        "  num1= int(input(\"Enter your first number: \"))\n",
        "  num2= int(input(\"Enter your second number: \"))\n",
        "  print(\"The difference is\", num1-num2)\n",
        "elif operation =='3':\n",
        "  num1= int(input(\"Enter your first number: \"))\n",
        "  num2= int(input(\"Enter your second number: \"))\n",
        "  print(\"The product is\", num1*num2)\n",
        "elif operation =='4':\n",
        "  num1= int(input(\"Enter your first number: \"))\n",
        "  num2= int(input(\"Enter your second number: \"))\n",
        "  print(\"The quotient is\", num1/num2)\n",
        "elif operation =='5':\n",
        "  num= int(input(\"Enter your number: \"))\n",
        "  print(\"The square root is \", (math.sqrt(num)) )\n",
        "elif operation =='6':\n",
        "  num= int(input(\"Enter your number: \"))\n",
        "  print(\"The square is \",(math.pow(num, 2)) )\n",
        "else:\n",
        "  print(\"Please Choose 1,2,3 or 4\")"
      ],
      "metadata": {
        "colab": {
          "base_uri": "https://localhost:8080/"
        },
        "id": "amC7KTKynLkP",
        "outputId": "235ad7f2-ac17-4bb2-a6ec-89ca45a9eaf2"
      },
      "execution_count": 25,
      "outputs": [
        {
          "output_type": "stream",
          "name": "stdout",
          "text": [
            "Select an operation to perform: \n",
            "1. ADD\n",
            "2. SUBTRACT\n",
            "3. MULTIPLY\n",
            "4. DIVIDE\n",
            "5. SQUARE ROOT\n",
            "6. SQUARE\n",
            "6\n",
            "Enter your first number: 5\n",
            "The square is  25.0\n"
          ]
        }
      ]
    }
  ]
}