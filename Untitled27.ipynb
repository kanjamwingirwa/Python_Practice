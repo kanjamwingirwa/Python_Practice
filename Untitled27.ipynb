{
  "nbformat": 4,
  "nbformat_minor": 0,
  "metadata": {
    "colab": {
      "provenance": [],
      "authorship_tag": "ABX9TyOlj3YbiwkcUm0KaOlrmtyi",
      "include_colab_link": true
    },
    "kernelspec": {
      "name": "python3",
      "display_name": "Python 3"
    },
    "language_info": {
      "name": "python"
    }
  },
  "cells": [
    {
      "cell_type": "markdown",
      "metadata": {
        "id": "view-in-github",
        "colab_type": "text"
      },
      "source": [
        "<a href=\"https://colab.research.google.com/github/kanjamwingirwa/Python_Practice/blob/kanja/Untitled27.ipynb\" target=\"_parent\"><img src=\"https://colab.research.google.com/assets/colab-badge.svg\" alt=\"Open In Colab\"/></a>"
      ]
    },
    {
      "cell_type": "code",
      "execution_count": 1,
      "metadata": {
        "colab": {
          "base_uri": "https://localhost:8080/"
        },
        "id": "GLyLPElXvHpv",
        "outputId": "2b94eb15-a68b-4335-8bae-167ebb77f376"
      },
      "outputs": [
        {
          "output_type": "stream",
          "name": "stdout",
          "text": [
            "1\n",
            "2\n",
            "3 Fizz\n",
            "4\n",
            "5 Buzz\n",
            "6 Fizz\n",
            "7\n",
            "8\n",
            "9 Fizz\n",
            "10 Buzz\n",
            "11\n",
            "12 Fizz\n",
            "13\n",
            "14\n",
            "15 Fizzbuzz\n",
            "16\n",
            "17\n",
            "18 Fizz\n",
            "19\n",
            "20 Buzz\n",
            "21 Fizz\n",
            "22\n",
            "23\n",
            "24 Fizz\n",
            "25 Buzz\n",
            "26\n",
            "27 Fizz\n",
            "28\n",
            "29\n",
            "30 Fizzbuzz\n",
            "31\n",
            "32\n",
            "33 Fizz\n",
            "34\n",
            "35 Buzz\n",
            "36 Fizz\n",
            "37\n",
            "38\n",
            "39 Fizz\n",
            "40 Buzz\n",
            "41\n",
            "42 Fizz\n",
            "43\n",
            "44\n",
            "45 Fizzbuzz\n",
            "46\n",
            "47\n",
            "48 Fizz\n",
            "49\n",
            "50 Buzz\n",
            "51 Fizz\n",
            "52\n",
            "53\n",
            "54 Fizz\n",
            "55 Buzz\n",
            "56\n",
            "57 Fizz\n",
            "58\n",
            "59\n",
            "60 Fizzbuzz\n",
            "61\n",
            "62\n",
            "63 Fizz\n",
            "64\n",
            "65 Buzz\n",
            "66 Fizz\n",
            "67\n",
            "68\n",
            "69 Fizz\n",
            "70 Buzz\n",
            "71\n",
            "72 Fizz\n",
            "73\n",
            "74\n",
            "75 Fizzbuzz\n",
            "76\n",
            "77\n",
            "78 Fizz\n",
            "79\n",
            "80 Buzz\n",
            "81 Fizz\n",
            "82\n",
            "83\n",
            "84 Fizz\n",
            "85 Buzz\n",
            "86\n",
            "87 Fizz\n",
            "88\n",
            "89\n",
            "90 Fizzbuzz\n",
            "91\n",
            "92\n",
            "93 Fizz\n",
            "94\n",
            "95 Buzz\n",
            "96 Fizz\n",
            "97\n",
            "98\n",
            "99 Fizz\n",
            "100 Buzz\n"
          ]
        }
      ],
      "source": [
        "#fizzbuzz_challenge\n",
        "n = 100\n",
        "for i in range(1,n+1):\n",
        "    if i%3 == 0 and i%5 == 0:\n",
        "        print(i, 'Fizzbuzz')\n",
        "    elif i%5 == 0:\n",
        "        print(i,'Buzz')\n",
        "    elif i%3 == 0:\n",
        "        print(i, 'Fizz')\n",
        "    else:\n",
        "        print(i)"
      ]
    }
  ]
}